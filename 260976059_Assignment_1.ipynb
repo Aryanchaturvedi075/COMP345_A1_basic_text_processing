{
  "cells": [
    {
      "cell_type": "markdown",
      "metadata": {
        "colab_type": "text",
        "id": "view-in-github"
      },
      "source": [
        "<a href=\"https://colab.research.google.com/github/Aryanchaturvedi075/COMP345_A1_basic_text_processing/blob/main/260976059_Assignment_1.ipynb\" target=\"_parent\"><img src=\"https://colab.research.google.com/assets/colab-badge.svg\" alt=\"Open In Colab\"/></a>"
      ]
    },
    {
      "cell_type": "markdown",
      "metadata": {
        "id": "2FuO82RTBftK"
      },
      "source": [
        "Go to https://drive.google.com/drive/folders/1Pe6D713L9S0GWwb_XzeLXAeNZOrBqZaN?usp=sharing and click add shortcut to drive (new UI: organize -> add shortcut -> my drive). This will add the data required for this assignment to your Google drive.\n",
        "\n",
        "<img src=\"https://drive.google.com/uc?id=1LqHisiziX8Ri94Xs6Cv8mhx6vivFM3kS\" alt=\"Drawing\" height=\"300\"/>\n",
        "\n",
        "Caution: Since this is real language on Twitter and deals with world events, some of it could be disturbing. In the later section of the course, we will deal with ethics and what is appropriate and what is not.\n",
        "\n",
        "First, let's read the tweets from the Google drive and print a few lines from the file.\n",
        "\n"
      ]
    },
    {
      "cell_type": "markdown",
      "metadata": {
        "id": "UtZEcHthBeXz"
      },
      "source": [
        "Run the below code snippet. It will generate a URL which generates an authorization code. Enter it below to give Colab access to your Google drive.\n",
        "\n",
        "**Note:** Copy button may not work. Try copying the authorization code manually."
      ]
    },
    {
      "cell_type": "code",
      "execution_count": 107,
      "metadata": {
        "id": "l8nv5l1CfEEo"
      },
      "outputs": [],
      "source": [
        "# online_dir_path = '/content/drive/My Drive/Colab Notebooks/tweets/'\n",
        "file_path = '20000_tweets.txt'"
      ]
    },
    {
      "cell_type": "code",
      "execution_count": 108,
      "metadata": {
        "colab": {
          "base_uri": "https://localhost:8080/"
        },
        "id": "KW-dce7oJlyr",
        "outputId": "9b032efe-1237-4644-9569-e586f8d1a164"
      },
      "outputs": [
        {
          "name": "stdout",
          "output_type": "stream",
          "text": [
            "Running in local environment\n"
          ]
        }
      ],
      "source": [
        "try:\n",
        "    from google.colab import drive\n",
        "    drive.mount('/content/drive')\n",
        "    file_path = '/content/drive/My Drive/Colab Notebooks/tweets/' + file_path\n",
        "except ModuleNotFoundError:\n",
        "    print(\"Running in local environment\")"
      ]
    },
    {
      "cell_type": "markdown",
      "metadata": {
        "id": "Ni2pYuuQKaHY"
      },
      "source": [
        "When you run the `ls` command below, you should see the files in the tweets folder.\n",
        "\n",
        "\n"
      ]
    },
    {
      "cell_type": "code",
      "execution_count": 109,
      "metadata": {
        "colab": {
          "base_uri": "https://localhost:8080/"
        },
        "id": "zYENtyc7SOxA",
        "outputId": "8d10a892-97d7-4152-90a3-e8c313c7dc80"
      },
      "outputs": [],
      "source": [
        " #!ls"
      ]
    },
    {
      "cell_type": "markdown",
      "metadata": {
        "id": "vEvB8AMiqeNh"
      },
      "source": [
        "Let's read the top 10 tweets from the file `20000_tweets.txt` and print them."
      ]
    },
    {
      "cell_type": "code",
      "execution_count": 110,
      "metadata": {
        "colab": {
          "base_uri": "https://localhost:8080/"
        },
        "id": "gZMOmElPSPHk",
        "outputId": "2791ace7-5acb-47bf-b04e-9606f5f26e70"
      },
      "outputs": [
        {
          "name": "stdout",
          "output_type": "stream",
          "text": [
            "### Tweet 1 #####\n",
            "Covid-19 Economic Response: Cancel Student Loans by Executive Order. - Sign the Petition! https://t.co/BnPXWHv5cr via @Change\n",
            "\n",
            "### Tweet 2 #####\n",
            "Hey! The stock markets up! Fuck Trump and the Trumpublican Senate! https://t.co/4t6mgbaG2C\n",
            "\n",
            "### Tweet 3 #####\n",
            "@ProjectLincoln blame Trump for no sports because of Covid19 @MeidasTouch\n",
            "\n",
            "### Tweet 4 #####\n",
            "Do u guys think that reopening of the dinning in the restaurants of Lahore will bring any change in our lives? Nothing is going to change I think cause many people have learned cooking, painting and many new stuff during lockdown and I think we all will continue those things 1/2\n",
            "\n",
            "### Tweet 5 #####\n",
            "@NBCSAthletics Ya just knew the season wouldn’t go by without some bench clearing brawls... Covid or not. Behaviors can’t be changed because of rules, sadly\n",
            "\n",
            "### Tweet 6 #####\n",
            "You’re comparing apples and oranges. The NCAA has a lot more to balance than the NFL. https://t.co/oeMsbgeem7\n",
            "\n",
            "### Tweet 7 #####\n",
            "THANK YOU @POTUS Absolutely NO MONEY/NO BAILOUTS for Irresponsibly Run Democrat Cities...#NoBailouts https://t.co/bWLELcCutV\n",
            "\n",
            "### Tweet 8 #####\n",
            "#Texas #USA #NorthAmerica Cases: 509,539 (+21) Death: 8,583 Recovered: 344,845 Critical: 1,754 New %: 0.3% Death %: 1.7% Population %: 1.8% #CoronaVirus #Covid19 #SarsCov2 #Forecast https://t.co/yHbd9gl1uz https://t.co/sRulRFOeUx\n",
            "\n",
            "### Tweet 9 #####\n",
            "New Zealand celebrated their 100th day without COVID today. A society that works together for the common good: that's what actual freedom looks like. https://t.co/7qppin3QRM\n",
            "\n",
            "### Tweet 10 #####\n",
            "It’s going to be screen time all the time for kindergartners and graduate students alike. Teachers are threatening strikes. And students are already coming home infected with the coronavirus, which has upended American education. https://t.co/O3eT06wmrU\n",
            "\n"
          ]
        }
      ],
      "source": [
        "f = open(file_path, \"r\", encoding='utf-8')\n",
        "\n",
        "line_count = 1\n",
        "top_tweets = []\n",
        "for tweet in f:\n",
        "    print(\"### Tweet\", line_count, \"#####\")\n",
        "    print(tweet)\n",
        "\n",
        "    top_tweets.append(tweet)\n",
        "    line_count += 1\n",
        "    if line_count > 10:\n",
        "        break\n",
        "f.close()"
      ]
    },
    {
      "cell_type": "code",
      "execution_count": 111,
      "metadata": {},
      "outputs": [],
      "source": [
        "s, c, p, op  = r\"[+-−]?\", r\"[$€]?\", r\"%?\", r\"[eE/^*_:]?\"\n",
        "gi = r\"\\d{1,3}(?:,\\d{3})+\"\n",
        "grp = r\"(?:\"+ gi +r\"|\\d+)(?:\\.\\d+)?\"\n",
        "sgn = s + grp\n",
        "cur = s + c + grp + c + p\n",
        "opn = sgn + op + sgn\n",
        "bcp = s + r\"\\(\" + cur + p + r\"\\)\"\n",
        "\n",
        "\n",
        "patterns = [\n",
        "    r\"(?:https?://(?:www\\.)?|www\\.)\\S+\" ,\n",
        "    r\"\\w+(?=n['’]t\\b)\" ,\n",
        "    r\"n['’]t\\b\" ,\n",
        "    r\"\\w+(?=['’]\\w{1,2})\" ,\n",
        "    r\"['’]\\w{1,2}\" ,\n",
        "    r\"\\w+-\\w+\" ,\n",
        "    r\"(?:\" + bcp + r\"[,;\\-−])+\" + bcp ,\n",
        "    s + c + r\"\\(\" + opn + r\"\\)\" + c + p ,\n",
        "    r\"(?:\\d+[_.:/\\-−]){2,}\\d+\" , \n",
        "    s + c + grp + op + sgn + c + p ,\n",
        "    bcp ,\n",
        "    cur ,\n",
        "    r\"[@#]?_?\\w+(?:_*\\w+)*\" ,\n",
        "    r\"[\\\"\\(\\)\\*\\+\\.\\?\\[\\\\\\]\\^\\{\\|\\}]+\" ,\n",
        "    r\"[!#&'-/<=>@$€]+\" ,\n",
        "    r\"[%:;`~_,ʻ’“ˮ]\" ,\n",
        "    r\"\\S+\"\n",
        "]"
      ]
    },
    {
      "cell_type": "markdown",
      "metadata": {
        "id": "7r-IHJ3KU27N"
      },
      "source": [
        "# **Problem 1: Word Tokenizer**\n",
        "\n",
        "Implement your own tokenizer for tweets without using libraries like `nltk`, `spacy` or any existing tokenizers. Tokenizer is a fundamental tool for processing any text data. The tokenizer should preserve punctuations.\n",
        "\n",
        "The outputs for the top five tweets should approximately be as follows (it's fine to not exactly match this output)\n",
        "\n",
        "```\n",
        "['Covid-19', 'Economic', 'Response', ':', 'Cancel', 'Student', 'Loans', 'by', 'Executive', 'Order', '.', '-', 'Sign', 'the', 'Petition', '!', 'https://t.co/BnPXWHv5cr', 'via', '@Change']\n",
        "['Hey', '!', 'The', 'stock', 'markets', 'up', '!', 'Fuck', 'Trump', 'and', 'the', 'Trumpublican', 'Senate', '!', 'https://t.co/4t6mgbaG2C']\n",
        "['@ProjectLincoln', 'blame', 'Trump', 'for', 'no', 'sports', 'because', 'of', 'Covid19', '@MeidasTouch']\n",
        "['Do', 'u', 'guys', 'think', 'that', 'reopening', 'of', 'the', 'dinning', 'in', 'the', 'restaurants', 'of', 'Lahore', 'will', 'bring', 'any', 'change', 'in', 'our', 'lives', '?', 'Nothing', 'is', 'going', 'to', 'change', 'I', 'think', 'cause', 'many', 'people', 'have', 'learned', 'cooking', ',', 'painting', 'and', 'many', 'new', 'stuff', 'during', 'lockdown', 'and', 'I', 'think', 'we', 'all', 'will', 'continue', 'those', 'things', '1/2']\n",
        "['@NBCSAthletics', 'Ya', 'just', 'knew', 'the', 'season', 'would', 'n’t', 'go', 'by', 'without', 'some', 'bench', 'clearing', 'brawls', '...', 'Covid', 'or', 'not', '.', 'Behaviors', 'ca', 'n’t', 'be', 'changed', 'because', 'of', 'rules', ',', 'sadly']\n",
        "```\n",
        "\n",
        "A thing to note is that words like `wouldn't` and `you'll` become two tokens `would n't` and `you 'll`, after tokenization. Treating `n't` and  `'ll` as independent tokens is common in NLP tools. You can come up with that kind of list easily, e.g., `'s, 've`.\n"
      ]
    },
    {
      "cell_type": "code",
      "execution_count": 112,
      "metadata": {
        "id": "0Y-oKzw7OHOX"
      },
      "outputs": [],
      "source": [
        "# import any relevant libraries here\n",
        "import re\n",
        "\n",
        "# a function to tokenize text into words\n",
        "def tokenize(text):\n",
        "    search_ptrn = '|'.join(patterns)\n",
        "    words = re.findall(search_ptrn, text.strip())\n",
        "    return words"
      ]
    },
    {
      "cell_type": "code",
      "execution_count": 113,
      "metadata": {},
      "outputs": [
        {
          "name": "stdout",
          "output_type": "stream",
          "text": [
            "['Covid-19', 'Economic', 'Response', ':', 'Cancel', 'Student', 'Loans', 'by', 'Executive', 'Order', '.', '-', 'Sign', 'the', 'Petition', '!', 'https://t.co/BnPXWHv5cr', 'via', '@Change']\n",
            "['Hey', '!', 'The', 'stock', 'markets', 'up', '!', 'Fuck', 'Trump', 'and', 'the', 'Trumpublican', 'Senate', '!', 'https://t.co/4t6mgbaG2C']\n",
            "['@ProjectLincoln', 'blame', 'Trump', 'for', 'no', 'sports', 'because', 'of', 'Covid19', '@MeidasTouch']\n",
            "['Do', 'u', 'guys', 'think', 'that', 'reopening', 'of', 'the', 'dinning', 'in', 'the', 'restaurants', 'of', 'Lahore', 'will', 'bring', 'any', 'change', 'in', 'our', 'lives', '?', 'Nothing', 'is', 'going', 'to', 'change', 'I', 'think', 'cause', 'many', 'people', 'have', 'learned', 'cooking', ',', 'painting', 'and', 'many', 'new', 'stuff', 'during', 'lockdown', 'and', 'I', 'think', 'we', 'all', 'will', 'continue', 'those', 'things', '1/2']\n",
            "['@NBCSAthletics', 'Ya', 'just', 'knew', 'the', 'season', 'would', 'n’t', 'go', 'by', 'without', 'some', 'bench', 'clearing', 'brawls', '...', 'Covid', 'or', 'not', '.', 'Behaviors', 'ca', 'n’t', 'be', 'changed', 'because', 'of', 'rules', ',', 'sadly']\n",
            "['You', '’re', 'comparing', 'apples', 'and', 'oranges', '.', 'The', 'NCAA', 'has', 'a', 'lot', 'more', 'to', 'balance', 'than', 'the', 'NFL', '.', 'https://t.co/oeMsbgeem7']\n",
            "['THANK', 'YOU', '@POTUS', 'Absolutely', 'NO', 'MONEY', '/', 'NO', 'BAILOUTS', 'for', 'Irresponsibly', 'Run', 'Democrat', 'Cities', '...', '#NoBailouts', 'https://t.co/bWLELcCutV']\n",
            "['#Texas', '#USA', '#NorthAmerica', 'Cases', ':', '509,539', '(+21)', 'Death', ':', '8,583', 'Recovered', ':', '344,845', 'Critical', ':', '1,754', 'New', '%', ':', '0.3%', 'Death', '%', ':', '1.7%', 'Population', '%', ':', '1.8%', '#CoronaVirus', '#Covid19', '#SarsCov2', '#Forecast', 'https://t.co/yHbd9gl1uz', 'https://t.co/sRulRFOeUx']\n",
            "['New', 'Zealand', 'celebrated', 'their', '100', 'th', 'day', 'without', 'COVID', 'today', '.', 'A', 'society', 'that', 'works', 'together', 'for', 'the', 'common', 'good', ':', 'that', \"'s\", 'what', 'actual', 'freedom', 'looks', 'like', '.', 'https://t.co/7qppin3QRM']\n",
            "['It', '’s', 'going', 'to', 'be', 'screen', 'time', 'all', 'the', 'time', 'for', 'kindergartners', 'and', 'graduate', 'students', 'alike', '.', 'Teachers', 'are', 'threatening', 'strikes', '.', 'And', 'students', 'are', 'already', 'coming', 'home', 'infected', 'with', 'the', 'coronavirus', ',', 'which', 'has', 'upended', 'American', 'education', '.', 'https://t.co/O3eT06wmrU']\n"
          ]
        }
      ],
      "source": [
        "tokenized_top_tweets = [tokenize(tweet) for tweet in top_tweets]\n",
        "for tokenized_tweet in tokenized_top_tweets:\n",
        "    print(tokenized_tweet)"
      ]
    },
    {
      "cell_type": "markdown",
      "metadata": {
        "id": "KEmNfrQqKoMY"
      },
      "source": [
        "# Problem 2: Post-process the tokenized tweets\n",
        "\n",
        "Clean the tokenized tweets such that usernames are repalced with `@USER`, URLs are replaced with `URL`, punctuations are removed and words are lower-cased.\n",
        "\n",
        "The output for the top ten tweets after cleaning should look something like this\n",
        "\n",
        "```\n",
        "['covid-19', 'economic', 'response', 'cancel', 'student', 'loans', 'by', 'executive', 'order', 'sign', 'the', 'petition', 'URL', 'via', '@USER']\n",
        "['hey', 'the', 'stock', 'markets', 'up', 'fuck', 'trump', 'and', 'the', 'trumpublican', 'senate', 'URL']\n",
        "['@USER', 'blame', 'trump', 'for', 'no', 'sports', 'because', 'of', 'covid19', '@USER']\n",
        "['do', 'u', 'guys', 'think', 'that', 'reopening', 'of', 'the', 'dinning', 'in', 'the', 'restaurants', 'of', 'lahore', 'will', 'bring', 'any', 'change', 'in', 'our', 'lives', 'nothing', 'is', 'going', 'to', 'change', 'i', 'think', 'cause', 'many', 'people', 'have', 'learned', 'cooking', 'painting', 'and', 'many', 'new', 'stuff', 'during', 'lockdown', 'and', 'i', 'think', 'we', 'all', 'will', 'continue', 'those', 'things', '1/2']\n",
        "['@USER', 'ya', 'just', 'knew', 'the', 'season', 'would', 'n’t', 'go', 'by', 'without', 'some', 'bench', 'clearing', 'brawls', 'covid', 'or', 'not', 'behaviors', 'ca', 'n’t', 'be', 'changed', 'because', 'of', 'rules', 'sadly']\n",
        "```"
      ]
    },
    {
      "cell_type": "markdown",
      "metadata": {
        "id": "jN_QSZ6paBpR"
      },
      "source": []
    },
    {
      "cell_type": "code",
      "execution_count": 114,
      "metadata": {
        "id": "EMWFqI9KbDnY"
      },
      "outputs": [],
      "source": [
        "# import relevant packages\n",
        "\n",
        "# function to clean a tweet\n",
        "def clean_a_tweet(tokenized_tweet):\n",
        "    clean_tokenized_tweet = [\n",
        "        'URL' if token.startswith(('http', 'https', 'www')) \n",
        "        else '@USER' if token.startswith('@') \n",
        "        else token.lower() for token in tokenized_tweet\n",
        "    ]\n",
        "    return clean_tokenized_tweet"
      ]
    },
    {
      "cell_type": "code",
      "execution_count": 115,
      "metadata": {},
      "outputs": [
        {
          "name": "stdout",
          "output_type": "stream",
          "text": [
            "['covid-19', 'economic', 'response', ':', 'cancel', 'student', 'loans', 'by', 'executive', 'order', '.', '-', 'sign', 'the', 'petition', '!', 'URL', 'via', '@USER']\n",
            "['hey', '!', 'the', 'stock', 'markets', 'up', '!', 'fuck', 'trump', 'and', 'the', 'trumpublican', 'senate', '!', 'URL']\n",
            "['@USER', 'blame', 'trump', 'for', 'no', 'sports', 'because', 'of', 'covid19', '@USER']\n",
            "['do', 'u', 'guys', 'think', 'that', 'reopening', 'of', 'the', 'dinning', 'in', 'the', 'restaurants', 'of', 'lahore', 'will', 'bring', 'any', 'change', 'in', 'our', 'lives', '?', 'nothing', 'is', 'going', 'to', 'change', 'i', 'think', 'cause', 'many', 'people', 'have', 'learned', 'cooking', ',', 'painting', 'and', 'many', 'new', 'stuff', 'during', 'lockdown', 'and', 'i', 'think', 'we', 'all', 'will', 'continue', 'those', 'things', '1/2']\n",
            "['@USER', 'ya', 'just', 'knew', 'the', 'season', 'would', 'n’t', 'go', 'by', 'without', 'some', 'bench', 'clearing', 'brawls', '...', 'covid', 'or', 'not', '.', 'behaviors', 'ca', 'n’t', 'be', 'changed', 'because', 'of', 'rules', ',', 'sadly']\n",
            "['you', '’re', 'comparing', 'apples', 'and', 'oranges', '.', 'the', 'ncaa', 'has', 'a', 'lot', 'more', 'to', 'balance', 'than', 'the', 'nfl', '.', 'URL']\n",
            "['thank', 'you', '@USER', 'absolutely', 'no', 'money', '/', 'no', 'bailouts', 'for', 'irresponsibly', 'run', 'democrat', 'cities', '...', '#nobailouts', 'URL']\n",
            "['#texas', '#usa', '#northamerica', 'cases', ':', '509,539', '(+21)', 'death', ':', '8,583', 'recovered', ':', '344,845', 'critical', ':', '1,754', 'new', '%', ':', '0.3%', 'death', '%', ':', '1.7%', 'population', '%', ':', '1.8%', '#coronavirus', '#covid19', '#sarscov2', '#forecast', 'URL', 'URL']\n",
            "['new', 'zealand', 'celebrated', 'their', '100', 'th', 'day', 'without', 'covid', 'today', '.', 'a', 'society', 'that', 'works', 'together', 'for', 'the', 'common', 'good', ':', 'that', \"'s\", 'what', 'actual', 'freedom', 'looks', 'like', '.', 'URL']\n",
            "['it', '’s', 'going', 'to', 'be', 'screen', 'time', 'all', 'the', 'time', 'for', 'kindergartners', 'and', 'graduate', 'students', 'alike', '.', 'teachers', 'are', 'threatening', 'strikes', '.', 'and', 'students', 'are', 'already', 'coming', 'home', 'infected', 'with', 'the', 'coronavirus', ',', 'which', 'has', 'upended', 'american', 'education', '.', 'URL']\n"
          ]
        }
      ],
      "source": [
        "anonymized_top_tweets = [clean_a_tweet(tokenized_tweet) for tokenized_tweet in tokenized_top_tweets]\n",
        "for tokenized_tweet in anonymized_top_tweets:\n",
        "    print(tokenized_tweet)"
      ]
    },
    {
      "cell_type": "markdown",
      "metadata": {
        "id": "JVkL6n6jU1LU"
      },
      "source": [
        "# Problem 3: Unigrams and Bigrams\n",
        "\n",
        "Read **all** tweets from the file `20000_tweets.txt` and print the top 10 unigrams and bigrams. Consider only the English tweets. You have to use `tokenize` and `clean_a_tweet` function.\n",
        "\n",
        "Output format\n",
        "\n",
        "```\n",
        "Top 10 Unigrams\n",
        "@USER\t16698\n",
        "the\t16666\n",
        "URL\t12610\n",
        "to\t11866\n",
        "a\t9845\n",
        "....\n",
        "....\n",
        "....\n",
        "....\n",
        "....\n",
        "\n",
        "Top 10 Bigrams\n",
        "@USER @USER\t7494\n",
        "in the\t1280\n",
        "of the\t1265\n",
        "it ’s\t860\n",
        "a mask\t793\n",
        "....\n",
        "....\n",
        "....\n",
        "....\n",
        "....\n",
        "```\n",
        "\n",
        "Your numbers need not match the above word frequencies. Depending on your tokenizer, you may get different numbers"
      ]
    },
    {
      "cell_type": "code",
      "execution_count": 120,
      "metadata": {},
      "outputs": [],
      "source": [
        "from collections import Counter\n",
        "import nltk\n",
        "from nltk.corpus import words\n",
        "\n",
        "with open(file_path, \"r\", encoding='utf-8') as f:\n",
        "    all_tweets = f.readlines()\n",
        "\n",
        "all_token_tweets = [tokenize(tweet) for tweet in all_tweets]\n",
        "all_clean_tweets = [clean_a_tweet(tokenized_tweet) for tokenized_tweet in all_token_tweets]\n",
        "# for tokenized_tweet in all_clean_tweets:\n",
        "#     print(tokenized_tweet)"
      ]
    },
    {
      "cell_type": "code",
      "execution_count": null,
      "metadata": {},
      "outputs": [],
      "source": [
        "def is_english_word(word):\n",
        "    patterns = [\n",
        "        r\"\\w+(?=n['']t\\b)\",\n",
        "        r\"n['']t\\b\",\n",
        "        r\"\\w+(?=['']\\w{1,2})\",\n",
        "        r\"['']\\w{1,2}\",\n",
        "        r\"\\w+-\\w+\",\n",
        "        r\"[@#]?_?\\w+(?:_*\\w+)*\"\n",
        "    ]\n",
        "    \n",
        "    # Combine all patterns into a single regex with alternation\n",
        "    combined_pattern = '|'.join(f'({pattern})' for pattern in patterns)\n",
        "    \n",
        "    # Check if the entire word matches the combined pattern\n",
        "    return re.fullmatch(combined_pattern, word) is not None"
      ]
    },
    {
      "cell_type": "code",
      "execution_count": null,
      "metadata": {
        "id": "DQs6Th7AlTtb"
      },
      "outputs": [
        {
          "name": "stderr",
          "output_type": "stream",
          "text": [
            "[nltk_data] Downloading package words to\n",
            "[nltk_data]     C:\\Users\\chatu\\AppData\\Roaming\\nltk_data...\n",
            "[nltk_data]   Package words is already up-to-date!\n"
          ]
        },
        {
          "name": "stdout",
          "output_type": "stream",
          "text": [
            "Top 10 Unigrams:\n",
            "@USER: 16794\n",
            "the: 16656\n",
            "to: 11854\n",
            "a: 9855\n",
            "and: 8542\n",
            "of: 7810\n",
            "i: 6580\n",
            "is: 6479\n",
            "in: 6301\n",
            "it: 5351\n",
            "\n",
            "Top 10 Bigrams:\n",
            "@USER @USER: 7552\n",
            "in the: 1305\n",
            "of the: 1296\n",
            "the pandemic: 834\n",
            "a mask: 822\n",
            "@USER i: 760\n",
            "this is: 758\n",
            "a pandemic: 704\n",
            "wear a: 697\n",
            "is a: 666\n"
          ]
        }
      ],
      "source": [
        "# Write your code to build top 10 unigrams and bigrams\n",
        "# Hint: You can use python dictionary or collections.Counter().\n",
        "\n",
        "from collections import Counter\n",
        "\n",
        "with open(file_path, \"r\", encoding='utf-8') as f:\n",
        "    all_tweets = f.readlines()\n",
        "\n",
        "all_token_tweets = [tokenize(tweet) for tweet in all_tweets]\n",
        "all_clean_tweets = [clean_a_tweet(tokenized_tweet) for tokenized_tweet in all_token_tweets]\n",
        "\n",
        "# all_tokens = [token for tweet in all_clean_tweets for token in tweet]\n",
        "# token_counts = Counter(all_tokens)\n",
        "# print(token_counts.most_common(10))\n",
        "\n",
        "\n",
        "def is_english_word(word):\n",
        "    # Check if the word is in the English dictionary or is a common Twitter entity\n",
        "    return word.lower() in english_words or word.startswith(('@', '#', 'http', 'www'))\n",
        "\n",
        "def get_english_tokens(tweet):\n",
        "    return [token for token in tweet if is_english_word(token)]\n",
        "\n",
        "def get_bigrams(tweet):\n",
        "    return list(zip(tweet[:-1], tweet[1:]))\n",
        "\n",
        "# Filter for English tweets and get unigrams and bigrams\n",
        "english_unigrams = []\n",
        "english_bigrams = []\n",
        "\n",
        "for tweet in all_clean_tweets:\n",
        "    english_tokens = get_english_tokens(tweet)\n",
        "    if len(english_tokens) > 0:  # Only consider tweets with English words\n",
        "        english_unigrams.extend(english_tokens)\n",
        "        english_bigrams.extend(get_bigrams(english_tokens))\n",
        "\n",
        "# Count frequencies\n",
        "unigram_counts = Counter(english_unigrams)\n",
        "bigram_counts = Counter(english_bigrams)\n",
        "\n",
        "# Print top 10 unigrams\n",
        "print(\"Top 10 Unigrams:\")\n",
        "for unigram, count in unigram_counts.most_common(10):\n",
        "    print(f\"{unigram}: {count}\")\n",
        "\n",
        "# Print top 10 bigrams\n",
        "print(\"\\nTop 10 Bigrams:\")\n",
        "for bigram, count in bigram_counts.most_common(10):\n",
        "    print(f\"{bigram[0]} {bigram[1]}: {count}\")\n"
      ]
    },
    {
      "cell_type": "markdown",
      "metadata": {
        "id": "2Q-FpH2k7akG"
      },
      "source": [
        "# Problem 4: How frequent are the following unigrams and bigrams?\n",
        "\n",
        "```\n",
        "covid\n",
        "coronavirus\n",
        "republicans\n",
        "democrats\n",
        "social distancing\n",
        "wear mask\n",
        "no mask\n",
        "donald trump\n",
        "joe biden\n",
        "```\n",
        "\n",
        "Output:\n",
        "```\n",
        "covid\t4437\n",
        "coronavirus\t1368\n",
        "...\n",
        "...\n",
        "social distancing\t568\n",
        "wear mask\t19\n",
        "...\n",
        "...\n",
        "...\n",
        "```\n"
      ]
    },
    {
      "cell_type": "code",
      "execution_count": 118,
      "metadata": {
        "id": "11Jcaf1T9mHU"
      },
      "outputs": [],
      "source": [
        "# Write your code to print the frequencies of the above unigrams and bigrams\n",
        "# Hint: reuse the dictionaries you built in the previous cell\n"
      ]
    }
  ],
  "metadata": {
    "colab": {
      "include_colab_link": true,
      "provenance": []
    },
    "kernelspec": {
      "display_name": "Python 3",
      "name": "python3"
    },
    "language_info": {
      "codemirror_mode": {
        "name": "ipython",
        "version": 3
      },
      "file_extension": ".py",
      "mimetype": "text/x-python",
      "name": "python",
      "nbconvert_exporter": "python",
      "pygments_lexer": "ipython3",
      "version": "3.13.1"
    }
  },
  "nbformat": 4,
  "nbformat_minor": 0
}
